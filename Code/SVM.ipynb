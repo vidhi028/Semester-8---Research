{
 "cells": [
  {
   "cell_type": "code",
   "execution_count": 1,
   "metadata": {},
   "outputs": [],
   "source": [
    "# SVM Classifier\n",
    "\n",
    "# Importing the libraries\n",
    "\n",
    "\n",
    "import numpy as np\n",
    "import pandas as pd\n",
    "\n",
    "from sklearn import metrics\n",
    "from sklearn import svm\n",
    "from sklearn.metrics import confusion_matrix, classification_report\n"
   ]
  },
  {
   "cell_type": "code",
   "execution_count": 2,
   "metadata": {},
   "outputs": [],
   "source": [
    "# Classification data\n",
    "target_names=['S', 'A']\n",
    "\n",
    "\n",
    "datasets = pd.read_csv('Sample.csv')\n",
    "\n"
   ]
  },
  {
   "cell_type": "code",
   "execution_count": 3,
   "metadata": {},
   "outputs": [
    {
     "data": {
      "text/html": [
       "<div>\n",
       "<style scoped>\n",
       "    .dataframe tbody tr th:only-of-type {\n",
       "        vertical-align: middle;\n",
       "    }\n",
       "\n",
       "    .dataframe tbody tr th {\n",
       "        vertical-align: top;\n",
       "    }\n",
       "\n",
       "    .dataframe thead th {\n",
       "        text-align: right;\n",
       "    }\n",
       "</style>\n",
       "<table border=\"1\" class=\"dataframe\">\n",
       "  <thead>\n",
       "    <tr style=\"text-align: right;\">\n",
       "      <th></th>\n",
       "      <th>Delta_TP9</th>\n",
       "      <th>Delta_AF7</th>\n",
       "      <th>Delta_AF8</th>\n",
       "      <th>Delta_TP10</th>\n",
       "      <th>Theta_TP9</th>\n",
       "      <th>Theta_AF7</th>\n",
       "      <th>Theta_AF8</th>\n",
       "      <th>Theta_TP10</th>\n",
       "      <th>Alpha_TP9</th>\n",
       "      <th>Alpha_AF7</th>\n",
       "      <th>...</th>\n",
       "      <th>Alpha_TP10</th>\n",
       "      <th>Beta_TP9</th>\n",
       "      <th>Beta_AF7</th>\n",
       "      <th>Beta_AF8</th>\n",
       "      <th>Beta_TP10</th>\n",
       "      <th>Gamma_TP9</th>\n",
       "      <th>Gamma_AF7</th>\n",
       "      <th>Gamma_AF8</th>\n",
       "      <th>Gamma_TP10</th>\n",
       "      <th>Class</th>\n",
       "    </tr>\n",
       "  </thead>\n",
       "  <tbody>\n",
       "    <tr>\n",
       "      <th>0</th>\n",
       "      <td>1.396960</td>\n",
       "      <td>0.748573</td>\n",
       "      <td>0.624664</td>\n",
       "      <td>0.883406</td>\n",
       "      <td>1.249708</td>\n",
       "      <td>0.586885</td>\n",
       "      <td>0.533442</td>\n",
       "      <td>0.485211</td>\n",
       "      <td>1.101655</td>\n",
       "      <td>0.540979</td>\n",
       "      <td>...</td>\n",
       "      <td>0.771521</td>\n",
       "      <td>0.766845</td>\n",
       "      <td>0.210184</td>\n",
       "      <td>0.426317</td>\n",
       "      <td>0.572677</td>\n",
       "      <td>0.160373</td>\n",
       "      <td>-0.450107</td>\n",
       "      <td>0.270713</td>\n",
       "      <td>0.605397</td>\n",
       "      <td>S</td>\n",
       "    </tr>\n",
       "    <tr>\n",
       "      <th>1</th>\n",
       "      <td>1.754684</td>\n",
       "      <td>0.838108</td>\n",
       "      <td>0.748363</td>\n",
       "      <td>0.883406</td>\n",
       "      <td>1.567186</td>\n",
       "      <td>0.659629</td>\n",
       "      <td>0.656333</td>\n",
       "      <td>0.485211</td>\n",
       "      <td>1.012359</td>\n",
       "      <td>0.539647</td>\n",
       "      <td>...</td>\n",
       "      <td>0.771521</td>\n",
       "      <td>0.761221</td>\n",
       "      <td>0.236035</td>\n",
       "      <td>0.465422</td>\n",
       "      <td>0.572677</td>\n",
       "      <td>0.306499</td>\n",
       "      <td>-0.424936</td>\n",
       "      <td>0.344866</td>\n",
       "      <td>0.605397</td>\n",
       "      <td>S</td>\n",
       "    </tr>\n",
       "    <tr>\n",
       "      <th>2</th>\n",
       "      <td>1.340178</td>\n",
       "      <td>0.838108</td>\n",
       "      <td>0.748363</td>\n",
       "      <td>0.883406</td>\n",
       "      <td>0.827729</td>\n",
       "      <td>0.659629</td>\n",
       "      <td>0.656333</td>\n",
       "      <td>0.485211</td>\n",
       "      <td>0.988576</td>\n",
       "      <td>0.539647</td>\n",
       "      <td>...</td>\n",
       "      <td>0.771521</td>\n",
       "      <td>0.932086</td>\n",
       "      <td>0.236035</td>\n",
       "      <td>0.465422</td>\n",
       "      <td>0.572677</td>\n",
       "      <td>0.099521</td>\n",
       "      <td>-0.424936</td>\n",
       "      <td>0.344866</td>\n",
       "      <td>0.605397</td>\n",
       "      <td>S</td>\n",
       "    </tr>\n",
       "    <tr>\n",
       "      <th>3</th>\n",
       "      <td>1.425728</td>\n",
       "      <td>0.838108</td>\n",
       "      <td>0.748363</td>\n",
       "      <td>0.883406</td>\n",
       "      <td>0.871954</td>\n",
       "      <td>0.659629</td>\n",
       "      <td>0.656333</td>\n",
       "      <td>0.485211</td>\n",
       "      <td>0.981718</td>\n",
       "      <td>0.539647</td>\n",
       "      <td>...</td>\n",
       "      <td>0.771521</td>\n",
       "      <td>0.953276</td>\n",
       "      <td>0.236035</td>\n",
       "      <td>0.465422</td>\n",
       "      <td>0.572677</td>\n",
       "      <td>0.108383</td>\n",
       "      <td>-0.424936</td>\n",
       "      <td>0.344866</td>\n",
       "      <td>0.605397</td>\n",
       "      <td>S</td>\n",
       "    </tr>\n",
       "    <tr>\n",
       "      <th>4</th>\n",
       "      <td>0.618318</td>\n",
       "      <td>0.992035</td>\n",
       "      <td>0.816730</td>\n",
       "      <td>0.883406</td>\n",
       "      <td>0.482111</td>\n",
       "      <td>0.885987</td>\n",
       "      <td>0.673019</td>\n",
       "      <td>0.485211</td>\n",
       "      <td>0.383168</td>\n",
       "      <td>0.808309</td>\n",
       "      <td>...</td>\n",
       "      <td>0.771521</td>\n",
       "      <td>0.560154</td>\n",
       "      <td>0.441090</td>\n",
       "      <td>0.699042</td>\n",
       "      <td>0.572677</td>\n",
       "      <td>0.357444</td>\n",
       "      <td>-0.005887</td>\n",
       "      <td>0.259457</td>\n",
       "      <td>0.605397</td>\n",
       "      <td>S</td>\n",
       "    </tr>\n",
       "  </tbody>\n",
       "</table>\n",
       "<p>5 rows × 21 columns</p>\n",
       "</div>"
      ],
      "text/plain": [
       "   Delta_TP9  Delta_AF7  Delta_AF8  Delta_TP10  Theta_TP9  Theta_AF7  \\\n",
       "0   1.396960   0.748573   0.624664    0.883406   1.249708   0.586885   \n",
       "1   1.754684   0.838108   0.748363    0.883406   1.567186   0.659629   \n",
       "2   1.340178   0.838108   0.748363    0.883406   0.827729   0.659629   \n",
       "3   1.425728   0.838108   0.748363    0.883406   0.871954   0.659629   \n",
       "4   0.618318   0.992035   0.816730    0.883406   0.482111   0.885987   \n",
       "\n",
       "   Theta_AF8  Theta_TP10  Alpha_TP9  Alpha_AF7  ...  Alpha_TP10  Beta_TP9  \\\n",
       "0   0.533442    0.485211   1.101655   0.540979  ...    0.771521  0.766845   \n",
       "1   0.656333    0.485211   1.012359   0.539647  ...    0.771521  0.761221   \n",
       "2   0.656333    0.485211   0.988576   0.539647  ...    0.771521  0.932086   \n",
       "3   0.656333    0.485211   0.981718   0.539647  ...    0.771521  0.953276   \n",
       "4   0.673019    0.485211   0.383168   0.808309  ...    0.771521  0.560154   \n",
       "\n",
       "   Beta_AF7  Beta_AF8  Beta_TP10  Gamma_TP9  Gamma_AF7  Gamma_AF8  Gamma_TP10  \\\n",
       "0  0.210184  0.426317   0.572677   0.160373  -0.450107   0.270713    0.605397   \n",
       "1  0.236035  0.465422   0.572677   0.306499  -0.424936   0.344866    0.605397   \n",
       "2  0.236035  0.465422   0.572677   0.099521  -0.424936   0.344866    0.605397   \n",
       "3  0.236035  0.465422   0.572677   0.108383  -0.424936   0.344866    0.605397   \n",
       "4  0.441090  0.699042   0.572677   0.357444  -0.005887   0.259457    0.605397   \n",
       "\n",
       "   Class  \n",
       "0      S  \n",
       "1      S  \n",
       "2      S  \n",
       "3      S  \n",
       "4      S  \n",
       "\n",
       "[5 rows x 21 columns]"
      ]
     },
     "execution_count": 3,
     "metadata": {},
     "output_type": "execute_result"
    }
   ],
   "source": [
    "datasets.head(5)"
   ]
  },
  {
   "cell_type": "code",
   "execution_count": 4,
   "metadata": {},
   "outputs": [],
   "source": [
    "X = datasets.iloc[:, :-1].values\n",
    "Y = datasets.iloc[:, -1].values"
   ]
  },
  {
   "cell_type": "code",
   "execution_count": 39,
   "metadata": {},
   "outputs": [],
   "source": [
    "# Sci-Kit Learn Supprt Vector Machine Classifiers\n",
    "# Train/Test split model \n",
    "from sklearn.model_selection import train_test_split\n",
    "X_train, X_test, Y_train, Y_test = train_test_split(X, Y, test_size = .25)"
   ]
  },
  {
   "cell_type": "code",
   "execution_count": 40,
   "metadata": {},
   "outputs": [],
   "source": [
    "#Import svm model\n",
    "from sklearn import svm\n",
    "\n",
    "#Create a svm Classifier\n",
    "clf = svm.SVC(kernel='linear') # Linear Kernel\n",
    "\n",
    "#Train the model using the training sets\n",
    "clf.fit(X_train, Y_train)\n",
    "\n",
    "#Predict the response for test dataset\n",
    "y_pred = clf.predict(X_test)"
   ]
  },
  {
   "cell_type": "code",
   "execution_count": 41,
   "metadata": {},
   "outputs": [
    {
     "name": "stdout",
     "output_type": "stream",
     "text": [
      "Accuracy: 0.6721728081321474\n"
     ]
    }
   ],
   "source": [
    "#Import scikit-learn metrics module for accuracy calculation\n",
    "from sklearn import metrics\n",
    "\n",
    "# Model Accuracy: how often is the classifier correct?\n",
    "print(\"Accuracy:\",metrics.accuracy_score(Y_test, y_pred))"
   ]
  },
  {
   "cell_type": "code",
   "execution_count": 42,
   "metadata": {},
   "outputs": [],
   "source": [
    "# SVC with Linear Kernel\n",
    "lin = svm.SVC(kernel='linear', C = 1.0).fit(X_train, Y_train)\n",
    "Y_lin_pred = lin.predict(X_test)\n",
    "acc = metrics.accuracy_score(Y_test, Y_lin_pred)\n",
    "cfm = metrics.confusion_matrix(Y_test, Y_lin_pred)\n",
    "report = classification_report(Y_test, Y_lin_pred, target_names=target_names)"
   ]
  },
  {
   "cell_type": "code",
   "execution_count": 43,
   "metadata": {},
   "outputs": [
    {
     "name": "stdout",
     "output_type": "stream",
     "text": [
      "0.6721728081321474\n"
     ]
    }
   ],
   "source": [
    "print(acc)"
   ]
  },
  {
   "cell_type": "code",
   "execution_count": 44,
   "metadata": {},
   "outputs": [
    {
     "name": "stdout",
     "output_type": "stream",
     "text": [
      "[[329  96]\n",
      " [162 200]]\n"
     ]
    }
   ],
   "source": [
    "print(cfm)"
   ]
  },
  {
   "cell_type": "code",
   "execution_count": 45,
   "metadata": {},
   "outputs": [
    {
     "name": "stdout",
     "output_type": "stream",
     "text": [
      "              precision    recall  f1-score   support\n",
      "\n",
      "           A       0.67      0.77      0.72       425\n",
      "           S       0.68      0.55      0.61       362\n",
      "\n",
      "    accuracy                           0.67       787\n",
      "   macro avg       0.67      0.66      0.66       787\n",
      "weighted avg       0.67      0.67      0.67       787\n",
      "\n"
     ]
    }
   ],
   "source": [
    "from sklearn.metrics import classification_report\n",
    "print(classification_report(Y_test, Y_lin_pred))"
   ]
  },
  {
   "cell_type": "code",
   "execution_count": 46,
   "metadata": {},
   "outputs": [],
   "source": [
    "# SVC with radial basis kernel\n",
    "rbf = svm.SVC(kernel='rbf', C = 1.0).fit(X_train, Y_train)\n",
    "Y_rbf_pred = rbf.predict(X_test)\n",
    "acc2 = metrics.accuracy_score(Y_test, Y_rbf_pred)\n",
    "cfm2 = metrics.confusion_matrix(Y_test, Y_rbf_pred)\n",
    "report2 = classification_report(Y_test, Y_rbf_pred, target_names=target_names)"
   ]
  },
  {
   "cell_type": "code",
   "execution_count": 47,
   "metadata": {},
   "outputs": [
    {
     "name": "stdout",
     "output_type": "stream",
     "text": [
      "0.6721728081321474\n"
     ]
    }
   ],
   "source": [
    "print(acc)"
   ]
  },
  {
   "cell_type": "code",
   "execution_count": 48,
   "metadata": {},
   "outputs": [
    {
     "name": "stdout",
     "output_type": "stream",
     "text": [
      "[[329  96]\n",
      " [162 200]]\n"
     ]
    }
   ],
   "source": [
    "print(cfm)"
   ]
  },
  {
   "cell_type": "code",
   "execution_count": 49,
   "metadata": {},
   "outputs": [
    {
     "name": "stdout",
     "output_type": "stream",
     "text": [
      "              precision    recall  f1-score   support\n",
      "\n",
      "           A       0.80      0.92      0.86       425\n",
      "           S       0.89      0.74      0.81       362\n",
      "\n",
      "    accuracy                           0.84       787\n",
      "   macro avg       0.85      0.83      0.83       787\n",
      "weighted avg       0.84      0.84      0.83       787\n",
      "\n"
     ]
    }
   ],
   "source": [
    "from sklearn.metrics import classification_report\n",
    "print(classification_report(Y_test, Y_rbf_pred))"
   ]
  },
  {
   "cell_type": "code",
   "execution_count": null,
   "metadata": {},
   "outputs": [],
   "source": []
  },
  {
   "cell_type": "code",
   "execution_count": null,
   "metadata": {},
   "outputs": [],
   "source": []
  }
 ],
 "metadata": {
  "kernelspec": {
   "display_name": "Python 3",
   "language": "python",
   "name": "python3"
  },
  "language_info": {
   "codemirror_mode": {
    "name": "ipython",
    "version": 3
   },
   "file_extension": ".py",
   "mimetype": "text/x-python",
   "name": "python",
   "nbconvert_exporter": "python",
   "pygments_lexer": "ipython3",
   "version": "3.7.6"
  }
 },
 "nbformat": 4,
 "nbformat_minor": 4
}
