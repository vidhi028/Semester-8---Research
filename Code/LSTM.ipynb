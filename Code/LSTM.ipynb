{
 "cells": [
  {
   "cell_type": "code",
   "execution_count": 31,
   "metadata": {},
   "outputs": [],
   "source": [
    "from keras.layers import Dense, Dropout, LSTM, Embedding\n",
    "from keras.preprocessing.sequence import pad_sequences\n",
    "from keras.models import Sequential\n",
    "import pandas as pd\n",
    "import numpy as np"
   ]
  },
  {
   "cell_type": "code",
   "execution_count": 32,
   "metadata": {},
   "outputs": [],
   "source": [
    "input_file = 'Sample.csv'"
   ]
  },
  {
   "cell_type": "code",
   "execution_count": null,
   "metadata": {},
   "outputs": [],
   "source": []
  },
  {
   "cell_type": "code",
   "execution_count": 41,
   "metadata": {},
   "outputs": [],
   "source": [
    "from sklearn.model_selection import train_test_split\n",
    "def load_data(test_split = 0.2):\n",
    "    print ('Loading data...')\n",
    "    df = pd.read_csv(input_file)\n",
    "\n",
    "    X = df.iloc[:, :-1].values\n",
    "    Y = [1 if i=='S' else 0 for i in df.iloc[:, -1].values]\n",
    "    \n",
    "    X_Train, X_Test,Y_Train, Y_Test = train_test_split(X, Y, test_size = 0.3, random_state = 0)\n",
    "    return X_Train,Y_Train, X_Test, Y_Test"
   ]
  },
  {
   "cell_type": "code",
   "execution_count": 42,
   "metadata": {},
   "outputs": [
    {
     "name": "stdout",
     "output_type": "stream",
     "text": [
      "Loading data...\n"
     ]
    }
   ],
   "source": [
    "X_train, y_train, X_test, y_test = load_data()"
   ]
  },
  {
   "cell_type": "code",
   "execution_count": 43,
   "metadata": {},
   "outputs": [],
   "source": [
    "def create_model(input_length):\n",
    "    print ('Creating model...')\n",
    "    model = Sequential()\n",
    "    model.add(Embedding(input_dim = 188, output_dim = 50, input_length = input_length))\n",
    "    model.add(LSTM(output_dim=256, activation='sigmoid', inner_activation='hard_sigmoid', return_sequences=True))\n",
    "    model.add(Dropout(0.5))\n",
    "    model.add(LSTM(output_dim=256, activation='sigmoid', inner_activation='hard_sigmoid'))\n",
    "    model.add(Dropout(0.5))\n",
    "    model.add(Dense(1, activation='sigmoid'))\n",
    "\n",
    "    print ('Compiling...')\n",
    "    model.compile(loss='binary_crossentropy', optimizer='rmsprop', metrics=['accuracy'])\n",
    "    return model"
   ]
  },
  {
   "cell_type": "code",
   "execution_count": 44,
   "metadata": {},
   "outputs": [
    {
     "name": "stdout",
     "output_type": "stream",
     "text": [
      "Creating model...\n"
     ]
    },
    {
     "name": "stderr",
     "output_type": "stream",
     "text": [
      "/Users/vidhi/opt/anaconda3/lib/python3.7/site-packages/ipykernel_launcher.py:5: UserWarning: Update your `LSTM` call to the Keras 2 API: `LSTM(activation=\"sigmoid\", return_sequences=True, units=256, recurrent_activation=\"hard_sigmoid\")`\n",
      "  \"\"\"\n",
      "/Users/vidhi/opt/anaconda3/lib/python3.7/site-packages/ipykernel_launcher.py:7: UserWarning: Update your `LSTM` call to the Keras 2 API: `LSTM(activation=\"sigmoid\", units=256, recurrent_activation=\"hard_sigmoid\")`\n",
      "  import sys\n"
     ]
    },
    {
     "name": "stdout",
     "output_type": "stream",
     "text": [
      "Compiling...\n",
      "Fitting model...\n"
     ]
    },
    {
     "name": "stderr",
     "output_type": "stream",
     "text": [
      "/Users/vidhi/opt/anaconda3/lib/python3.7/site-packages/ipykernel_launcher.py:4: UserWarning: The `nb_epoch` argument in `fit` has been renamed `epochs`.\n",
      "  after removing the cwd from sys.path.\n"
     ]
    },
    {
     "name": "stdout",
     "output_type": "stream",
     "text": [
      "Train on 1652 samples, validate on 184 samples\n",
      "Epoch 1/10\n",
      "1652/1652 [==============================] - 14s 8ms/step - loss: 0.7529 - accuracy: 0.5018 - val_loss: 0.6798 - val_accuracy: 0.5978\n",
      "Epoch 2/10\n",
      "1652/1652 [==============================] - 10s 6ms/step - loss: 0.7154 - accuracy: 0.5339 - val_loss: 0.6891 - val_accuracy: 0.5978\n",
      "Epoch 3/10\n",
      "1652/1652 [==============================] - 10s 6ms/step - loss: 0.7091 - accuracy: 0.5188 - val_loss: 0.6749 - val_accuracy: 0.5978\n",
      "Epoch 4/10\n",
      "1652/1652 [==============================] - 11s 6ms/step - loss: 0.7040 - accuracy: 0.5315 - val_loss: 0.7149 - val_accuracy: 0.4022\n",
      "Epoch 5/10\n",
      "1652/1652 [==============================] - 8s 5ms/step - loss: 0.7003 - accuracy: 0.5260 - val_loss: 0.6807 - val_accuracy: 0.5978\n",
      "Epoch 6/10\n",
      "1652/1652 [==============================] - 9s 6ms/step - loss: 0.6981 - accuracy: 0.5327 - val_loss: 0.7066 - val_accuracy: 0.4022\n",
      "Epoch 7/10\n",
      "1652/1652 [==============================] - 10s 6ms/step - loss: 0.7011 - accuracy: 0.5157 - val_loss: 0.6739 - val_accuracy: 0.5978\n",
      "Epoch 8/10\n",
      "1652/1652 [==============================] - 11s 7ms/step - loss: 0.6974 - accuracy: 0.5309 - val_loss: 0.7014 - val_accuracy: 0.4022\n",
      "Epoch 9/10\n",
      "1652/1652 [==============================] - 13s 8ms/step - loss: 0.6944 - accuracy: 0.5351 - val_loss: 0.6735 - val_accuracy: 0.5978\n",
      "Epoch 10/10\n",
      "1652/1652 [==============================] - 15s 9ms/step - loss: 0.6994 - accuracy: 0.5182 - val_loss: 0.6799 - val_accuracy: 0.5978\n",
      "787/787 [==============================] - 11s 13ms/step\n",
      "Test score: 0.6858905543214635\n",
      "Test accuracy: 0.5628970861434937\n"
     ]
    }
   ],
   "source": [
    "model = create_model(len(X_train[0]))\n",
    "\n",
    "print ('Fitting model...')\n",
    "hist = model.fit(X_train, y_train, batch_size=64, nb_epoch=10, validation_split = 0.1, verbose = 1)\n",
    "\n",
    "score, acc = model.evaluate(X_test, y_test, batch_size=1)\n",
    "print('Test score:', score)\n",
    "print('Test accuracy:', acc)"
   ]
  },
  {
   "cell_type": "code",
   "execution_count": null,
   "metadata": {},
   "outputs": [],
   "source": []
  },
  {
   "cell_type": "code",
   "execution_count": null,
   "metadata": {},
   "outputs": [],
   "source": []
  }
 ],
 "metadata": {
  "kernelspec": {
   "display_name": "Python 3",
   "language": "python",
   "name": "python3"
  },
  "language_info": {
   "codemirror_mode": {
    "name": "ipython",
    "version": 3
   },
   "file_extension": ".py",
   "mimetype": "text/x-python",
   "name": "python",
   "nbconvert_exporter": "python",
   "pygments_lexer": "ipython3",
   "version": "3.7.6"
  }
 },
 "nbformat": 4,
 "nbformat_minor": 4
}
